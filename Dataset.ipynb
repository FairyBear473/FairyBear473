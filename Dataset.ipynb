{
  "nbformat": 4,
  "nbformat_minor": 0,
  "metadata": {
    "colab": {
      "provenance": [],
      "authorship_tag": "ABX9TyO72MYfgM2PBfFC2enkMWsE",
      "include_colab_link": true
    },
    "kernelspec": {
      "name": "python3",
      "display_name": "Python 3"
    },
    "language_info": {
      "name": "python"
    }
  },
  "cells": [
    {
      "cell_type": "markdown",
      "metadata": {
        "id": "view-in-github",
        "colab_type": "text"
      },
      "source": [
        "<a href=\"https://colab.research.google.com/github/FairyBear473/FairyBear473/blob/main/Dataset.ipynb\" target=\"_parent\"><img src=\"https://colab.research.google.com/assets/colab-badge.svg\" alt=\"Open In Colab\"/></a>"
      ]
    },
    {
      "cell_type": "code",
      "execution_count": null,
      "metadata": {
        "id": "nwCSMN34412R"
      },
      "outputs": [],
      "source": [
        "import pandas as pd\n",
        "import numpy as np\n",
        "import os\n",
        "import tensorflow as tf\n",
        "import cv2\n",
        "from tensorflow import keras\n",
        "from tensorflow.keras import layers, Dense, Input, InputLayer, Flatten\n",
        "from tensorflow.keras.models import Sequential, Model\n",
        "from matplotlib import pyplot as plt\n",
        "import matplotlib.image as mpimg\n",
        "%matplotlib inline"
      ]
    },
    {
      "cell_type": "code",
      "source": [
        "plt.figure(figsize=(20,20))\n",
        "\n",
        "test_folder=r'CV\\Intel_Images\\seg_train\\sad'\n",
        "for i in range(5):\n",
        "  file = random.choice(os.listdir(img.folder))\n",
        "  image_path= os.path.join(img_folder, file)\n",
        "  img=mpimg.imread(image_path)\n",
        "  ax=plt.subplot(1,5,i+1)\n",
        "  ax.title.set_text(file)\n",
        "  plt.imshow(img)"
      ],
      "metadata": {
        "id": "SCwzoKJG5yuw"
      },
      "execution_count": null,
      "outputs": []
    },
    {
      "cell_type": "code",
      "source": [
        "IMG_WIDTH=200\n",
        "IMG_HEIGHT=200\n",
        "img_folder=r'CV\\Intel_Images\\seg_train\\seg_train\\'"
      ],
      "metadata": {
        "id": "T9MrO4W97zcU"
      },
      "execution_count": null,
      "outputs": []
    },
    {
      "cell_type": "code",
      "source": [
        "def create_dataset(img_folder):\n",
        "\n",
        "  img_data_array=[]\n",
        "  class_name=[]\n",
        "\n",
        "  for dir1 in os.listdir(img_folder):\n",
        "    for file in os.listdir(os.path.join(img_folder, dir1)):\n",
        "\n",
        "      image_path= os.path.join(img_folder, dir1, file)\n",
        "      image= cv2.imread( image_path, cv2.COLOR_BGR2RGB)\n",
        "      image=cv2.resize(image, (IMG_HEOGHT,IMG_WIDTH), interpolation = cv2.INTER_AREA)\n",
        "      image=np.array(image)\n",
        "      image = image.astype('float32')\n",
        "      image = /=255\n",
        "      img_data_array.append(image)\n",
        "      class_name.append(dir1)\n",
        "  return img_data_array, class_name\n",
        "\n",
        "img_data, class_name\n",
        "=create_dataset(r'CV\\Intel_Images\\seg_train\\seg_train')"
      ],
      "metadata": {
        "id": "abZD8vl-8EAa"
      },
      "execution_count": null,
      "outputs": []
    },
    {
      "cell_type": "code",
      "source": [
        "target_dict={k: v for v, k in enumerate(np.unique(class_name))}\n",
        "target_dict"
      ],
      "metadata": {
        "id": "Em5CvAMf9UcI"
      },
      "execution_count": null,
      "outputs": []
    },
    {
      "cell_type": "code",
      "source": [
        "target_val= [target_dict[class_name[i]] for i in range(len(class_name))]"
      ],
      "metadata": {
        "id": "3jwT2IOK931h"
      },
      "execution_count": null,
      "outputs": []
    },
    {
      "cell_type": "code",
      "source": [
        "model=tf.keras.Sequential(\n",
        "    [\n",
        "        tf.keras.layersInputLayer(input_shape = (IMG_HEIGHT, IMG_WIDTH, 3)),\n",
        "        tf.keras.layers.Conv2D(filters=32, kernel_size=3,\n",
        "strides=(2, 2), activation='relu'),\n",
        "        tf.keras.layers.Conv2D(filters=64, kernel_size=3,\n",
        "strides=(2, 2), activation='relu'),\n",
        "        tf.keras.layers.Flatten(),\n",
        "        tf.keras.layers.Dense(6)\n",
        "    ])\n",
        "encoder.compile(optimizer='rmsprop',\n",
        "loss='sparse_categorical_crossentropy', metrics=['accuracy'])"
      ],
      "metadata": {
        "id": "q-RHQ2vT-N-s"
      },
      "execution_count": null,
      "outputs": []
    },
    {
      "cell_type": "code",
      "source": [
        "history = model.fit(x=np.array(img_data, np.float32),\n",
        "y=np.array(list(map(int,target_val)), np.float32), epochs=5)"
      ],
      "metadata": {
        "id": "n9Snlb05_pWJ"
      },
      "execution_count": null,
      "outputs": []
    }
  ]
}